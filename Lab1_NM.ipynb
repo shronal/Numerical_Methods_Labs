{
 "cells": [
  {
   "cell_type": "markdown",
   "metadata": {
    "id": "4CfKkBqwdC_f"
   },
   "source": [
    "# Horner Rule to find the root of the given equation"
   ]
  },
  {
   "cell_type": "code",
   "execution_count": null,
   "metadata": {
    "id": "dJG7zPrLKY5b"
   },
   "outputs": [],
   "source": [
    "\n",
    "def horner_rule(coeffici0ents, x):\n",
    "  result = 0\n",
    "  for coefficient in coefficients:\n",
    "    result = result * x + coefficient\n",
    "  return result\n",
    "\n",
    "x = int(input(\"Enter the value of x: \"))\n",
    "\n",
    "coefficients = []\n",
    "degree = int(input(\"Enter the degree of polynomial: \"))\n",
    "\n",
    "for i in range(degree + 1):\n",
    "  print(f\"Enter the coefficient of x^{degree - i}: \")\n",
    "  coefficients.append(int(input()))\n",
    "\n",
    "\n",
    "result = horner_rule(coefficients, x)\n",
    "print(f\"The value of the polynomial at x = {x} is {result}\")\n"
   ]
  },
  {
   "cell_type": "markdown",
   "metadata": {
    "id": "-QVECTwMdROE"
   },
   "source": [
    "# Bisection Method to find the root of the given equation"
   ]
  },
  {
   "cell_type": "code",
   "execution_count": null,
   "metadata": {
    "colab": {
     "base_uri": "https://localhost:8080/"
    },
    "executionInfo": {
     "elapsed": 14998,
     "status": "ok",
     "timestamp": 1742455352400,
     "user": {
      "displayName": "Mr Shronal",
      "userId": "17347807462710732592"
     },
     "user_tz": -345
    },
    "id": "v3QLFjsTSJC0",
    "outputId": "47646183-5272-4255-d3bc-42c97644be5e"
   },
   "outputs": [],
   "source": [
    "def bisection_method(x, functions):\n",
    "  global x1, x2, eqn0, eqn1, eqn2, count\n",
    "  x0 = (x1 + x2) / 2\n",
    "  count = count +1\n",
    "\n",
    "\n",
    "  eqn0 = func(coefficients, x0)\n",
    "  eqn1 = func(coefficients, x1)\n",
    "  eqn2 = func(coefficients, x2)\n",
    "\n",
    "  if abs(eqn0) <= 0.0001:\n",
    "    x0 = round(x0,4)\n",
    "    print(f\"The root is {x0}\")\n",
    "    print(\"Total steps:\", count-1)\n",
    "    return\n",
    "\n",
    "  elif eqn0 * eqn1 < 0:\n",
    "    x2 = x0\n",
    "  else:\n",
    "    x1 = x0\n",
    "\n",
    "  bisection_method(x, functions)\n",
    "\n",
    "count = 0\n",
    "print(\"Input any two initial guesses\")\n",
    "x1 = int(input(\"First: \"))\n",
    "x2 = int(input(\"Second: \"))\n",
    "x0 = (x1 + x2) / 2\n",
    "x = [x0, x1, x2]\n",
    "d = int(input(\"The degree of the polynomial: \"))\n",
    "coefficients = []\n",
    "\n",
    "eqn0 = 0\n",
    "eqn1 = 0\n",
    "eqn2 = 0\n",
    "\n",
    "def func(coefficients, x):\n",
    "  result = 0\n",
    "  for i, coeff in enumerate(coefficients):\n",
    "    result += coeff * x**(d - i)\n",
    "  return result\n",
    "\n",
    "\n",
    "for i in range(d + 1):\n",
    "  print(f\"Enter the coefficient of x^{d - i}: \")\n",
    "  coefficients.append(int(input()))\n",
    "\n",
    "eqn0 = func(coefficients, x0)\n",
    "eqn1 = func(coefficients, x1)\n",
    "eqn2 = func(coefficients, x2)\n",
    "\n",
    "bisection_method(x, [eqn0, eqn1, eqn2])"
   ]
  },
  {
   "cell_type": "markdown",
   "metadata": {
    "id": "FEZHO-wadXgt"
   },
   "source": [
    "# False positon method to find the root of the given equation"
   ]
  },
  {
   "cell_type": "code",
   "execution_count": null,
   "metadata": {
    "id": "qGWb5VQ_gsot"
   },
   "outputs": [],
   "source": [
    "def false_position():\n",
    "    global x1, x2, eqn0, eqn1, eqn2, coefficients\n",
    "\n",
    "    A = x1*eqn2\n",
    "    B = x2*eqn1\n",
    "    x0 = (A-B)/(eqn2-eqn1)\n",
    "\n",
    "    eqn0 = func(coefficients, x0)\n",
    "    eqn1 = func(coefficients, x1)\n",
    "    eqn2 = func(coefficients, x2)\n",
    "\n",
    "    \n",
    "    if abs(x0 - x1) <= 0.0001:\n",
    "        x0 = round(x0, 4)\n",
    "        print(f\"The root is {x0}\")\n",
    "        return\n",
    "\n",
    "    if eqn0 * eqn1 < 0:\n",
    "        x2 = x0\n",
    "    else:\n",
    "        x1 = x0\n",
    "\n",
    "    false_position()\n",
    "\n",
    "print(\"Make sure that you enter exact and valid values\")\n",
    "print(\"Input any two initial guesses\")\n",
    "\n",
    "x1 = float(input(\"First: \"))\n",
    "x2 = float(input(\"Second: \"))\n",
    "x0 = (x1 + x2) / 2\n",
    "\n",
    "d = int(input(\"The degree of the polynomial: \"))\n",
    "coefficients = []\n",
    "\n",
    "def func(coefficients, x):\n",
    "    result = 0\n",
    "    for i, coeff in enumerate(coefficients):\n",
    "        result += coeff * x**(d - i)\n",
    "    return result\n",
    "\n",
    "for i in range(d + 1):\n",
    "    coefficients.append(float(input(f\"Enter the coefficient of x^{d - i}: \")))\n",
    "\n",
    "eqn0 = func(coefficients, x0)\n",
    "eqn1 = func(coefficients, x1)\n",
    "eqn2 = func(coefficients, x2)\n",
    "\n",
    "false_position()\n"
   ]
  }
 ],
 "metadata": {
  "colab": {
   "authorship_tag": "ABX9TyNCLag5xvHPKYRC7Pru38Tq",
   "provenance": []
  },
  "kernelspec": {
   "display_name": "Python 3",
   "name": "python3"
  },
  "language_info": {
   "codemirror_mode": {
    "name": "ipython",
    "version": 3
   },
   "file_extension": ".py",
   "mimetype": "text/x-python",
   "name": "python",
   "nbconvert_exporter": "python",
   "pygments_lexer": "ipython3",
   "version": "3.12.7"
  }
 },
 "nbformat": 4,
 "nbformat_minor": 0
}
